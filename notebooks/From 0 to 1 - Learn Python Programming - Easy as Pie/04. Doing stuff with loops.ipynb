{
 "cells": [
  {
   "cell_type": "code",
   "execution_count": 1,
   "metadata": {},
   "outputs": [
    {
     "name": "stdout",
     "output_type": "stream",
     "text": [
      "Athos is one of the dudes in dudeNames\n",
      "Pothos is one of the dudes in dudeNames\n",
      "Aramis is one of the dudes in dudeNames\n",
      "D'Artagnan is one of the dudes in dudeNames\n"
     ]
    }
   ],
   "source": [
    "dudeNames = ['Athos', 'Pothos', 'Aramis', \"D'Artagnan\"]\n",
    "for dude in dudeNames:\n",
    "    print(dude + \" is one of the dudes in dudeNames\")"
   ]
  },
  {
   "cell_type": "code",
   "execution_count": 5,
   "metadata": {},
   "outputs": [
    {
     "name": "stdout",
     "output_type": "stream",
     "text": [
      "dictVar contains the key 25 with the value the square of 5\n",
      "dictVar contains the key VITTHAL with the value The name of a dude\n",
      "dictVar contains the key 3.14 with the value The magic number\n"
     ]
    }
   ],
   "source": [
    "dictVar = {\n",
    "    \"VITTHAL\":\"The name of a dude\",\n",
    "    3.14 : \"The magic number\",\n",
    "    25 : \"the square of 5\"\n",
    "    }\n",
    "for key in dictVar.keys():\n",
    "    val = dictVar[key]\n",
    "    print(\"dictVar contains the key \" + str(key) + \" with the value \" + val)"
   ]
  },
  {
   "cell_type": "code",
   "execution_count": null,
   "metadata": {
    "collapsed": true
   },
   "outputs": [],
   "source": []
  }
 ],
 "metadata": {
  "kernelspec": {
   "display_name": "Python 3",
   "language": "python",
   "name": "python3"
  },
  "language_info": {
   "codemirror_mode": {
    "name": "ipython",
    "version": 3
   },
   "file_extension": ".py",
   "mimetype": "text/x-python",
   "name": "python",
   "nbconvert_exporter": "python",
   "pygments_lexer": "ipython3",
   "version": "3.5.2"
  }
 },
 "nbformat": 4,
 "nbformat_minor": 2
}
