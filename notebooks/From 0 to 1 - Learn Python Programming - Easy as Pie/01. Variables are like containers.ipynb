{
 "cells": [
  {
   "cell_type": "code",
   "execution_count": 1,
   "metadata": {},
   "outputs": [
    {
     "name": "stdout",
     "output_type": "stream",
     "text": [
      "Hello there\n"
     ]
    }
   ],
   "source": [
    "print(\"Hello there\")"
   ]
  },
  {
   "cell_type": "code",
   "execution_count": 5,
   "metadata": {},
   "outputs": [
    {
     "name": "stdout",
     "output_type": "stream",
     "text": [
      "Please type your name in now: Sean\n"
     ]
    }
   ],
   "source": [
    "name = input(\"Please type your name in now: \")"
   ]
  },
  {
   "cell_type": "code",
   "execution_count": 6,
   "metadata": {},
   "outputs": [
    {
     "name": "stdout",
     "output_type": "stream",
     "text": [
      "Sean\n"
     ]
    }
   ],
   "source": [
    "print(name)"
   ]
  },
  {
   "cell_type": "code",
   "execution_count": 7,
   "metadata": {
    "collapsed": true
   },
   "outputs": [],
   "source": [
    "numericvar = 3.14\n",
    "integervar = 25\n",
    "stringvar = \"VITTHAL\"\n",
    "listvar = [3.14, 25, \"VITTHAL\"]\n",
    "dictionaryvar = {\n",
    "    \"VITTHAL\":\"STRING\",\n",
    "    3.14 : \"DOUBLE\",\n",
    "    25 : \"INTEGER\"\n",
    "    }"
   ]
  },
  {
   "cell_type": "code",
   "execution_count": 11,
   "metadata": {},
   "outputs": [
    {
     "name": "stdout",
     "output_type": "stream",
     "text": [
      "If a circle has a radius of 5 units, then its area is 21.98 units\n"
     ]
    }
   ],
   "source": [
    "radiusOfCircle = 5\n",
    "pi = 3.14\n",
    "areaOfCircle = pi * ( radiusOfCircle ^ 2)\n",
    "niceString = \"If a circle has a radius of \" + str(radiusOfCircle) + \\\n",
    "    \" units, then its area is \" + str(areaOfCircle) + \" units\"\n",
    "print(niceString)"
   ]
  },
  {
   "cell_type": "code",
   "execution_count": null,
   "metadata": {
    "collapsed": true
   },
   "outputs": [],
   "source": []
  }
 ],
 "metadata": {
  "kernelspec": {
   "display_name": "Python 3",
   "language": "python",
   "name": "python3"
  },
  "language_info": {
   "codemirror_mode": {
    "name": "ipython",
    "version": 3
   },
   "file_extension": ".py",
   "mimetype": "text/x-python",
   "name": "python",
   "nbconvert_exporter": "python",
   "pygments_lexer": "ipython3",
   "version": "3.5.2"
  }
 },
 "nbformat": 4,
 "nbformat_minor": 2
}
