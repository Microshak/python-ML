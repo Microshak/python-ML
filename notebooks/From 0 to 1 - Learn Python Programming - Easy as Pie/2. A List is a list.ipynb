{
 "cells": [
  {
   "cell_type": "code",
   "execution_count": 1,
   "metadata": {},
   "outputs": [
    {
     "name": "stdout",
     "output_type": "stream",
     "text": [
      "3.14\n"
     ]
    }
   ],
   "source": [
    "listvar = [3.14, 25, \"VITTHAL\"]\n",
    "print(listvar[0])"
   ]
  },
  {
   "cell_type": "code",
   "execution_count": 2,
   "metadata": {},
   "outputs": [
    {
     "name": "stdout",
     "output_type": "stream",
     "text": [
      "25\n"
     ]
    }
   ],
   "source": [
    "print(listvar[1])"
   ]
  },
  {
   "cell_type": "code",
   "execution_count": 3,
   "metadata": {},
   "outputs": [
    {
     "name": "stdout",
     "output_type": "stream",
     "text": [
      "VITTHAL\n"
     ]
    }
   ],
   "source": [
    "print(listvar[len(listvar)-1])"
   ]
  },
  {
   "cell_type": "code",
   "execution_count": 4,
   "metadata": {
    "collapsed": true
   },
   "outputs": [],
   "source": [
    "listvar.append(\"new last element of list\")"
   ]
  },
  {
   "cell_type": "code",
   "execution_count": 5,
   "metadata": {
    "collapsed": true
   },
   "outputs": [],
   "source": [
    "listvar.insert(0, \"new first element of list\")"
   ]
  },
  {
   "cell_type": "code",
   "execution_count": 6,
   "metadata": {},
   "outputs": [
    {
     "name": "stdout",
     "output_type": "stream",
     "text": [
      "['new first element of list', 3.14, 25, 'VITTHAL', 'new last element of list']\n"
     ]
    }
   ],
   "source": [
    "print(listvar)"
   ]
  },
  {
   "cell_type": "code",
   "execution_count": 7,
   "metadata": {},
   "outputs": [
    {
     "name": "stdout",
     "output_type": "stream",
     "text": [
      "[3.14, 25, 'VITTHAL']\n"
     ]
    }
   ],
   "source": [
    "print(listvar[1:4])"
   ]
  },
  {
   "cell_type": "code",
   "execution_count": 8,
   "metadata": {},
   "outputs": [
    {
     "name": "stdout",
     "output_type": "stream",
     "text": [
      "[3.14, 25, 'VITTHAL', 'new last element of list']\n"
     ]
    }
   ],
   "source": [
    "print(listvar[1:])"
   ]
  },
  {
   "cell_type": "code",
   "execution_count": 9,
   "metadata": {},
   "outputs": [
    {
     "name": "stdout",
     "output_type": "stream",
     "text": [
      "['new first element of list', 3.14, 25, 'VITTHAL']\n"
     ]
    }
   ],
   "source": [
    "print(listvar[:4])"
   ]
  },
  {
   "cell_type": "code",
   "execution_count": 11,
   "metadata": {},
   "outputs": [
    {
     "name": "stdout",
     "output_type": "stream",
     "text": [
      "['new first element of list', 3.14, 'VITTHAL', 'new last element of list']\n"
     ]
    }
   ],
   "source": [
    "listvar.remove(25)\n",
    "print(listvar)"
   ]
  },
  {
   "cell_type": "code",
   "execution_count": 12,
   "metadata": {},
   "outputs": [
    {
     "name": "stdout",
     "output_type": "stream",
     "text": [
      "['new first element of list', 'VITTHAL', 'new last element of list']\n"
     ]
    }
   ],
   "source": [
    "del listvar[1]\n",
    "print(listvar)"
   ]
  },
  {
   "cell_type": "code",
   "execution_count": 13,
   "metadata": {},
   "outputs": [
    {
     "name": "stdout",
     "output_type": "stream",
     "text": [
      "['new first element of list', 'new last element of list']\n"
     ]
    }
   ],
   "source": [
    "listvar.pop(1)\n",
    "print(listvar)"
   ]
  },
  {
   "cell_type": "code",
   "execution_count": 14,
   "metadata": {},
   "outputs": [
    {
     "name": "stdout",
     "output_type": "stream",
     "text": [
      "['new first element of list']\n"
     ]
    }
   ],
   "source": [
    "listvar.pop()\n",
    "print(listvar)"
   ]
  },
  {
   "cell_type": "code",
   "execution_count": 16,
   "metadata": {},
   "outputs": [
    {
     "name": "stdout",
     "output_type": "stream",
     "text": [
      "[]\n"
     ]
    }
   ],
   "source": [
    "listvar.pop()\n",
    "print(listvar)"
   ]
  },
  {
   "cell_type": "code",
   "execution_count": 18,
   "metadata": {},
   "outputs": [
    {
     "name": "stdout",
     "output_type": "stream",
     "text": [
      "string\n",
      "some\n"
     ]
    }
   ],
   "source": [
    "somestring = \"somestring\"\n",
    "print(somestring[4:])\n",
    "print(somestring[:4])"
   ]
  },
  {
   "cell_type": "code",
   "execution_count": 23,
   "metadata": {},
   "outputs": [
    {
     "name": "stdout",
     "output_type": "stream",
     "text": [
      "Please enter your kingly name: Louis\n",
      "All hail king Louis!\n"
     ]
    }
   ],
   "source": [
    "kingName = input(\"Please enter your kingly name: \")\n",
    "print(\"All hail king \" + kingName + \"!\")"
   ]
  },
  {
   "cell_type": "code",
   "execution_count": 39,
   "metadata": {},
   "outputs": [
    {
     "name": "stdout",
     "output_type": "stream",
     "text": [
      "Hey Louis, how many jewels are there? 5\n"
     ]
    }
   ],
   "source": [
    "numJewels = int(input(\"Hey \" + kingName + \", how many jewels are there? \"))"
   ]
  },
  {
   "cell_type": "code",
   "execution_count": 40,
   "metadata": {},
   "outputs": [
    {
     "name": "stdout",
     "output_type": "stream",
     "text": [
      "Yo Louis, how much does each jewel cost? 100\n"
     ]
    }
   ],
   "source": [
    "costOfEachJewel = int(input(\"Yo \" + kingName + \", how much does each jewel cost? \"))"
   ]
  },
  {
   "cell_type": "code",
   "execution_count": 41,
   "metadata": {},
   "outputs": [
    {
     "name": "stdout",
     "output_type": "stream",
     "text": [
      "500\n"
     ]
    }
   ],
   "source": [
    "totalPrizeSize = costOfEachJewel * numJewels\n",
    "print(totalPrizeSize)"
   ]
  },
  {
   "cell_type": "code",
   "execution_count": 42,
   "metadata": {},
   "outputs": [
    {
     "name": "stdout",
     "output_type": "stream",
     "text": [
      "[\"D'Artagnan\", 'Athos', 'Pothos', 'Aramis']\n",
      "[55, 34, 67, 16]\n"
     ]
    }
   ],
   "source": [
    "dudeNames = [\"Athos\", \"Pothos\", \"Aramis\"]\n",
    "dudeAges = [55, 34, 67]\n",
    "dudeNames.insert(0, \"D'Artagnan\")\n",
    "dudeAges.append(16)\n",
    "print(dudeNames)\n",
    "print(dudeAges)"
   ]
  },
  {
   "cell_type": "code",
   "execution_count": 43,
   "metadata": {},
   "outputs": [
    {
     "name": "stdout",
     "output_type": "stream",
     "text": [
      "['Athos', 'Pothos', 'Aramis', \"D'Artagnan\"]\n",
      "[55, 34, 67, 16]\n"
     ]
    }
   ],
   "source": [
    "dudeNames.append(dudeNames.pop(0))\n",
    "print(dudeNames)\n",
    "print(dudeAges)"
   ]
  },
  {
   "cell_type": "code",
   "execution_count": 44,
   "metadata": {},
   "outputs": [
    {
     "name": "stdout",
     "output_type": "stream",
     "text": [
      "Total number of dudes: 4\n"
     ]
    }
   ],
   "source": [
    "print(\"Total number of dudes: \" + str(len(dudeNames)))"
   ]
  },
  {
   "cell_type": "code",
   "execution_count": 45,
   "metadata": {},
   "outputs": [
    {
     "name": "stdout",
     "output_type": "stream",
     "text": [
      "Yo Louis, please enter the # of the dude to kill? 2\n"
     ]
    }
   ],
   "source": [
    "dudeToKill = int(input(\"Yo \" + kingName + \", please enter the # of the dude to kill? \"))"
   ]
  },
  {
   "cell_type": "code",
   "execution_count": 46,
   "metadata": {},
   "outputs": [
    {
     "name": "stdout",
     "output_type": "stream",
     "text": [
      "Zapping all history of Pothos, age 34\n",
      "['Athos', 'Aramis', \"D'Artagnan\"]\n",
      "[55, 67, 16]\n"
     ]
    }
   ],
   "source": [
    "print(\"Zapping all history of \" + dudeNames.pop(dudeToKill-1) + \", age \" + str(dudeAges.pop(dudeToKill-1)))\n",
    "print(dudeNames)\n",
    "print(dudeAges)"
   ]
  },
  {
   "cell_type": "code",
   "execution_count": null,
   "metadata": {
    "collapsed": true
   },
   "outputs": [],
   "source": []
  }
 ],
 "metadata": {
  "kernelspec": {
   "display_name": "Python 3",
   "language": "python",
   "name": "python3"
  },
  "language_info": {
   "codemirror_mode": {
    "name": "ipython",
    "version": 3
   },
   "file_extension": ".py",
   "mimetype": "text/x-python",
   "name": "python",
   "nbconvert_exporter": "python",
   "pygments_lexer": "ipython3",
   "version": "3.5.2"
  }
 },
 "nbformat": 4,
 "nbformat_minor": 2
}
